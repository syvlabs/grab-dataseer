{
 "cells": [
  {
   "cell_type": "markdown",
   "metadata": {},
   "source": [
    "# Visualizing Grab transportation data from 2013\n",
    "The goal is to visualize grab bookings with respect to the geographical area. Here, we try to do this by clustering scattered GPS points to see trends."
   ]
  },
  {
   "cell_type": "code",
   "execution_count": 1,
   "metadata": {
    "collapsed": false
   },
   "outputs": [],
   "source": [
    "import math\n",
    "import pandas as pd\n",
    "import matplotlib.pyplot as plt\n",
    "import mpld3\n",
    "import gmplot\n",
    "import numpy as np\n",
    "import hdbscan\n",
    "from sklearn.cluster import DBSCAN\n",
    "from geopy.distance import great_circle\n",
    "from geopy.distance import distance\n",
    "from geopy.distance import Distance\n",
    "from geopy import Point\n",
    "from shapely.geometry import MultiPoint\n",
    "%matplotlib inline\n",
    "mpld3.enable_notebook()"
   ]
  },
  {
   "cell_type": "markdown",
   "metadata": {},
   "source": [
    "Some dataset details:\n",
    "- `source` is the channel whereby the booking was made\n",
    "- `pick_up_distance` is the distance of the driver from the passenger. This is measured via road distance and not by straight line.\n",
    "- `state`: either `CANCELLED` (booking cancelled by the user), `COMPLETED` (whole trip was completed), or `UNALLOCATED` (no car could be allocated to the user)"
   ]
  },
  {
   "cell_type": "code",
   "execution_count": 2,
   "metadata": {
    "collapsed": false
   },
   "outputs": [
    {
     "data": {
      "text/html": [
       "<div>\n",
       "<table border=\"1\" class=\"dataframe\">\n",
       "  <thead>\n",
       "    <tr style=\"text-align: right;\">\n",
       "      <th></th>\n",
       "      <th>source</th>\n",
       "      <th>created_at_local</th>\n",
       "      <th>pick_up_latitude</th>\n",
       "      <th>pick_up_longitude</th>\n",
       "      <th>drop_off_latitude</th>\n",
       "      <th>drop_off_longitude</th>\n",
       "      <th>city</th>\n",
       "      <th>fare</th>\n",
       "      <th>pick_up_distance</th>\n",
       "      <th>state</th>\n",
       "    </tr>\n",
       "  </thead>\n",
       "  <tbody>\n",
       "    <tr>\n",
       "      <th>0</th>\n",
       "      <td>ADR</td>\n",
       "      <td>2013-09-22 23:46:18.000000</td>\n",
       "      <td>14.604348</td>\n",
       "      <td>120.998654</td>\n",
       "      <td>14.537370</td>\n",
       "      <td>120.994423</td>\n",
       "      <td>Metro Manila</td>\n",
       "      <td>281.875</td>\n",
       "      <td>0.389894</td>\n",
       "      <td>CANCELLED</td>\n",
       "    </tr>\n",
       "    <tr>\n",
       "      <th>1</th>\n",
       "      <td>T47</td>\n",
       "      <td>2013-11-04 03:51:59.000000</td>\n",
       "      <td>14.590099</td>\n",
       "      <td>121.082645</td>\n",
       "      <td>14.508611</td>\n",
       "      <td>121.019444</td>\n",
       "      <td>Metro Manila</td>\n",
       "      <td>413.125</td>\n",
       "      <td>2.209770</td>\n",
       "      <td>COMPLETED</td>\n",
       "    </tr>\n",
       "    <tr>\n",
       "      <th>2</th>\n",
       "      <td>T47</td>\n",
       "      <td>2013-11-21 05:21:24.000000</td>\n",
       "      <td>14.582707</td>\n",
       "      <td>121.061458</td>\n",
       "      <td>14.537752</td>\n",
       "      <td>121.001379</td>\n",
       "      <td>Metro Manila</td>\n",
       "      <td>277.500</td>\n",
       "      <td>2.702910</td>\n",
       "      <td>COMPLETED</td>\n",
       "    </tr>\n",
       "    <tr>\n",
       "      <th>3</th>\n",
       "      <td>ADR</td>\n",
       "      <td>2013-09-16 20:53:34.000000</td>\n",
       "      <td>14.585812</td>\n",
       "      <td>121.060171</td>\n",
       "      <td>14.575915</td>\n",
       "      <td>121.085487</td>\n",
       "      <td>Metro Manila</td>\n",
       "      <td>220.625</td>\n",
       "      <td>0.321403</td>\n",
       "      <td>CANCELLED</td>\n",
       "    </tr>\n",
       "    <tr>\n",
       "      <th>4</th>\n",
       "      <td>IOS</td>\n",
       "      <td>2013-09-10 23:49:16.000000</td>\n",
       "      <td>14.552010</td>\n",
       "      <td>121.051260</td>\n",
       "      <td>14.630210</td>\n",
       "      <td>120.995920</td>\n",
       "      <td>Metro Manila</td>\n",
       "      <td>378.125</td>\n",
       "      <td>0.667067</td>\n",
       "      <td>COMPLETED</td>\n",
       "    </tr>\n",
       "  </tbody>\n",
       "</table>\n",
       "</div>"
      ],
      "text/plain": [
       "  source            created_at_local  pick_up_latitude  pick_up_longitude  \\\n",
       "0    ADR  2013-09-22 23:46:18.000000         14.604348         120.998654   \n",
       "1    T47  2013-11-04 03:51:59.000000         14.590099         121.082645   \n",
       "2    T47  2013-11-21 05:21:24.000000         14.582707         121.061458   \n",
       "3    ADR  2013-09-16 20:53:34.000000         14.585812         121.060171   \n",
       "4    IOS  2013-09-10 23:49:16.000000         14.552010         121.051260   \n",
       "\n",
       "   drop_off_latitude  drop_off_longitude          city     fare  \\\n",
       "0          14.537370          120.994423  Metro Manila  281.875   \n",
       "1          14.508611          121.019444  Metro Manila  413.125   \n",
       "2          14.537752          121.001379  Metro Manila  277.500   \n",
       "3          14.575915          121.085487  Metro Manila  220.625   \n",
       "4          14.630210          120.995920  Metro Manila  378.125   \n",
       "\n",
       "   pick_up_distance      state  \n",
       "0          0.389894  CANCELLED  \n",
       "1          2.209770  COMPLETED  \n",
       "2          2.702910  COMPLETED  \n",
       "3          0.321403  CANCELLED  \n",
       "4          0.667067  COMPLETED  "
      ]
     },
     "execution_count": 2,
     "metadata": {},
     "output_type": "execute_result"
    }
   ],
   "source": [
    "df = pd.read_csv('original.csv')\n",
    "df.head()"
   ]
  },
  {
   "cell_type": "markdown",
   "metadata": {},
   "source": [
    "Check if we have any irregular NAs in the dataset"
   ]
  },
  {
   "cell_type": "code",
   "execution_count": 3,
   "metadata": {
    "collapsed": false
   },
   "outputs": [
    {
     "data": {
      "text/plain": [
       "source                     0\n",
       "created_at_local           0\n",
       "pick_up_latitude           0\n",
       "pick_up_longitude          0\n",
       "drop_off_latitude          0\n",
       "drop_off_longitude         0\n",
       "city                       0\n",
       "fare                       0\n",
       "pick_up_distance      120532\n",
       "state                      0\n",
       "dtype: int64"
      ]
     },
     "execution_count": 3,
     "metadata": {},
     "output_type": "execute_result"
    }
   ],
   "source": [
    "df.isnull().sum()"
   ]
  },
  {
   "cell_type": "markdown",
   "metadata": {},
   "source": [
    "NAs at `pick_up_distance` should come from unallocated trips"
   ]
  },
  {
   "cell_type": "code",
   "execution_count": 4,
   "metadata": {
    "collapsed": false
   },
   "outputs": [
    {
     "data": {
      "text/plain": [
       "source                     0\n",
       "created_at_local           0\n",
       "pick_up_latitude           0\n",
       "pick_up_longitude          0\n",
       "drop_off_latitude          0\n",
       "drop_off_longitude         0\n",
       "city                       0\n",
       "fare                       0\n",
       "pick_up_distance      120532\n",
       "state                      0\n",
       "dtype: int64"
      ]
     },
     "execution_count": 4,
     "metadata": {},
     "output_type": "execute_result"
    }
   ],
   "source": [
    "df[df[\"state\"]==\"UNALLOCATED\"].isnull().sum()"
   ]
  },
  {
   "cell_type": "markdown",
   "metadata": {},
   "source": [
    "### Clustering the points\n",
    "There is not much analysis we can do when all we have are a bunch of GPS coordinates. To build relationships or to correlate points, we need some kind of method to group them together. For example, we can group points in the same city/town/postal code. However, grouping by geographic boundaries wouldn't be practical resource-wise. Moreover, such boundaries sometimes do not reflect proximity: for instance, if a popular mall lies along a city boundary, bookings coming from that mall would be assigned to 2 different cities, even though all those bookings are within the mall.\n",
    "\n",
    "To get a more natural grouping of points, we use a clustering algorithm called **DBSCAN**. We can cluster points based on how close they are to each other, such that points near each other are likely to be grouped in the same cluster."
   ]
  },
  {
   "cell_type": "markdown",
   "metadata": {},
   "source": [
    "Prepare the coordinates for DBSCAN"
   ]
  },
  {
   "cell_type": "code",
   "execution_count": 5,
   "metadata": {
    "collapsed": true
   },
   "outputs": [],
   "source": [
    "pick_up_coords = df.as_matrix(columns=['pick_up_latitude', 'pick_up_longitude'])\n",
    "drop_off_coords = df.as_matrix(columns=['drop_off_latitude', 'drop_off_longitude'])\n",
    "# Concatenate pick-up and drop-off coordinates; first half pick-up, latter half drop-off\n",
    "coords = np.concatenate((pick_up_coords, drop_off_coords))"
   ]
  },
  {
   "cell_type": "markdown",
   "metadata": {},
   "source": [
    "#### Clustering coordinates using DBSCAN\n",
    "Some parameters of interest:\n",
    "- `eps_km` - This is the maximum distance of points within a cluster. As this we increase this parameter, we get fewer clusters and with generally larger area. We determined 50 meters to be a good enough setting.\n",
    "- `min_samples` - The minimum no. of samples to be considered for a point to be considered a core point."
   ]
  },
  {
   "cell_type": "code",
   "execution_count": 6,
   "metadata": {
    "collapsed": false
   },
   "outputs": [],
   "source": [
    "eps_km = 0.05  # Max neighborhood distance of DBSCAN in km\n",
    "eps_rad = eps_km/6371.  # Convert km to radians (source: http://geoffboeing.com/2014/08/clustering-to-reduce-spatial-data-set-size/)\n",
    "min_samples = 3  # Min no. of samples to be considered a core point\n",
    "\n",
    "# Perform DBSCAN\n",
    "db = DBSCAN(eps=eps_rad, min_samples=min_samples, algorithm='ball_tree', metric='haversine').fit(np.radians(coords))"
   ]
  },
  {
   "cell_type": "markdown",
   "metadata": {},
   "source": [
    "Transform the outputs from DBSCAN"
   ]
  },
  {
   "cell_type": "code",
   "execution_count": 7,
   "metadata": {
    "collapsed": false
   },
   "outputs": [
    {
     "name": "stdout",
     "output_type": "stream",
     "text": [
      "Number of clusters: 9355\n"
     ]
    }
   ],
   "source": [
    "# Map row # in coords -> cluster #\n",
    "cluster_labels = db.labels_\n",
    "\n",
    "# Separate cluster labels into pick up and drop off\n",
    "cluster_labels_pick_up = cluster_labels[:len(cluster_labels)//2]\n",
    "cluster_labels_drop_off = cluster_labels[len(cluster_labels)//2:]\n",
    "\n",
    "# Count the total # of clusters\n",
    "num_clusters = len(set(cluster_labels))\n",
    "\n",
    "# Map cluster # -> points inside the cluster\n",
    "clusters = pd.Series([coords[cluster_labels == n] for n in range(num_clusters)])\n",
    "print('Number of clusters: '+str(num_clusters))"
   ]
  },
  {
   "cell_type": "markdown",
   "metadata": {},
   "source": [
    "After clustering, we now have the grouping of the closest points. However, these clusters are merely groupings; they do not have a 2D representation yet. We need to get the center of each cluster:"
   ]
  },
  {
   "cell_type": "code",
   "execution_count": 8,
   "metadata": {
    "collapsed": true
   },
   "outputs": [],
   "source": [
    "def get_centermost_point(cluster):\n",
    "    \"\"\"Compute the centermost point of a cluster of points.\"\"\"\n",
    "    if (len(cluster) == 0):\n",
    "        return\n",
    "    centroid = (MultiPoint(cluster).centroid.x, MultiPoint(cluster).centroid.y)\n",
    "    centermost_point = min(cluster, key=lambda point: great_circle(point, centroid).m)\n",
    "    return tuple(centermost_point)"
   ]
  },
  {
   "cell_type": "code",
   "execution_count": 9,
   "metadata": {
    "collapsed": true
   },
   "outputs": [],
   "source": [
    "# Map row # in clusters -> center (lat, long)\n",
    "centermost_points = clusters.map(get_centermost_point)"
   ]
  },
  {
   "cell_type": "markdown",
   "metadata": {
    "collapsed": true
   },
   "source": [
    "Now we can add the clusters and their centers to our original dataframe"
   ]
  },
  {
   "cell_type": "code",
   "execution_count": 10,
   "metadata": {
    "collapsed": false
   },
   "outputs": [],
   "source": [
    "# Assign center points in dataframe\n",
    "df['pick_up'] = [centermost_points[lbl] if lbl != -1 else np.nan for lbl in cluster_labels_pick_up]\n",
    "df['drop_off'] = [centermost_points[lbl] if lbl != -1 else np.nan for lbl in cluster_labels_drop_off]\n",
    "df['pick_up_lbl'] = cluster_labels_pick_up\n",
    "df['drop_off_lbl'] = cluster_labels_drop_off"
   ]
  },
  {
   "cell_type": "markdown",
   "metadata": {},
   "source": [
    "### Analyzing the clusters\n",
    "With the clustering done, we now have a way to associate together points that are \"close\" to each other.\n",
    "We are now free to do analysis on these clusters with relevant metrics.\n",
    "\n",
    "For now, we are going to focus on the **Allocation Rate (AR)**: the rate of successful matching we can do. This is defined by `AR = Allocated Bookings / Total Bookings`. This metric is important, since it tells us how well we can match demand. By calculating the `AR` for each cluster, we will be able to know which locations lack available Grab vehicles.\n",
    "\n",
    "We can now compute the AR for each cluster."
   ]
  },
  {
   "cell_type": "code",
   "execution_count": 11,
   "metadata": {
    "collapsed": false
   },
   "outputs": [],
   "source": [
    "# Compute the total and unallocated bookings for each cluster\n",
    "clusters_total_bookings = [len(df[df['pick_up_lbl'] == i]) for i in range(num_clusters)]\n",
    "clusters_unallocated_bookings = [len(df[(df['pick_up_lbl']==i) & (df['state']=='UNALLOCATED')]) for i in range(num_clusters)]"
   ]
  },
  {
   "cell_type": "code",
   "execution_count": 12,
   "metadata": {
    "collapsed": true
   },
   "outputs": [],
   "source": [
    "def get_allocation_rate(cluster_lbl):\n",
    "    \"\"\"Compute the allocation rate of a cluster given the cluster label.\"\"\"\n",
    "    total_bookings = clusters_total_bookings[cluster_lbl]\n",
    "    if (total_bookings == 0):\n",
    "        return\n",
    "    unallocated_bookings = clusters_unallocated_bookings[cluster_lbl]\n",
    "    # Compute the allocation rate\n",
    "    return (total_bookings - unallocated_bookings) / total_bookings"
   ]
  },
  {
   "cell_type": "code",
   "execution_count": 13,
   "metadata": {
    "collapsed": false
   },
   "outputs": [],
   "source": [
    "# Compute the allocation rate for each cluster\n",
    "clusters_ar = [get_allocation_rate(i) for i in range(num_clusters)]"
   ]
  },
  {
   "cell_type": "markdown",
   "metadata": {},
   "source": [
    "#### Visualizing the clusters\n",
    "To visualize the points, we plot each cluster in a map. We also define some functions and constants for our plot's aesthetics."
   ]
  },
  {
   "cell_type": "code",
   "execution_count": 14,
   "metadata": {
    "collapsed": true
   },
   "outputs": [],
   "source": [
    "PT_SIZE_SCALE = 4  # Scaling for point sizes\n",
    "\n",
    "def get_hue(pct):\n",
    "    \"\"\"Creates a color between green and red, tinted according to pct. 100% is green; 0% is red\"\"\"\n",
    "    n = pct*100.\n",
    "    R = round((255 * n) / 100.)\n",
    "    G = round((255 * (100 - n)) / 100.)\n",
    "    B = 0\n",
    "    return '#%02x%02x%02x' % (R, G, B)"
   ]
  },
  {
   "cell_type": "markdown",
   "metadata": {},
   "source": [
    "#### Drawing a cluster\n",
    "For each cluster that we can draw in the map, we change the ff. visual properties:\n",
    "- **Location**: the center of the cluster should be the approximate center of all the bookings in the vicinity\n",
    "- **Color**: red means very low allocation rate (hard to get a booking), green means high allocation rate (easy to get a booking)\n",
    "- **Size**: a large cluster should represent that a lot of bookings are made in that cluster"
   ]
  },
  {
   "cell_type": "code",
   "execution_count": 15,
   "metadata": {
    "collapsed": true
   },
   "outputs": [],
   "source": [
    "def draw_cluster(cluster_lbl):\n",
    "    \"\"\"Draws a cluster on the map given the cluster label.\"\"\"\n",
    "    center = centermost_points[cluster_lbl]\n",
    "    allocation_rate = clusters_ar[cluster_lbl]\n",
    "    total_bookings = clusters_total_bookings[cluster_lbl]\n",
    "    if (allocation_rate is None):\n",
    "        return\n",
    "    # Determine color based on allocation rate\n",
    "    color = get_hue(allocation_rate)\n",
    "    # Determine size based on sqrt(total bookings): since area grows in a quadratic manner,\n",
    "    # we get the square root of the metric to represent the size accurately\n",
    "    point_size = math.sqrt(total_bookings)*PT_SIZE_SCALE\n",
    "    gmap.scatter([center[0]], [center[1]], size=point_size, marker=False, color=color)"
   ]
  },
  {
   "cell_type": "code",
   "execution_count": 22,
   "metadata": {
    "collapsed": false
   },
   "outputs": [],
   "source": [
    "MAP_INITIAL_ZOOM = 14  # Initial zoom level of the map\n",
    "MAP_INITIAL_POS = [14.556423, 121.025291]  # Initial center position of the map\n",
    "\n",
    "# Draw the clusters on a google map\n",
    "gmap = gmplot.GoogleMapPlotter(MAP_INITIAL_POS[0], MAP_INITIAL_POS[1], MAP_INITIAL_ZOOM)\n",
    "for i in range(num_clusters):\n",
    "    draw_cluster(i)\n",
    "gmap.draw('out.html')"
   ]
  },
  {
   "cell_type": "markdown",
   "metadata": {
    "collapsed": true
   },
   "source": [
    "### A screenshot of the final output\n",
    "![Output Screenshot](out_screenshot.png)\n",
    "\n",
    "**Some quick observations about the data:**\n",
    "- In the figure above, we can see that the Makati, BGC, and Ortigas areas have relatively big clusters. **Green** 🍏 clusters mean high allocation rate (easy to book), while **red** 🍎 ones mean low allocation rates (hard to find a booking).\n",
    "- Looking at the bigger picture, we find notable red spots in:\n",
    "    - 🏬 Trinoma - Quezon City\n",
    "    - 🏙 Tivoli Garden Residences - Mandaluyong\n",
    "    - 🏞 Riverfront Residences - Pasig\n",
    "    - 🌏 SM Mall of Asia - Pasay\n",
    "    - 🛫 NAIA Terminal 4 - Pasay\n",
    "- From the point of view of Grab, big red clusters show potential problems in their matching algorithms.\n",
    "- From the point of view of a Grab user however, this map can be useful in finding where it is best to book Grab (or where not to).\n",
    "\n",
    "It is important to note, however, that these clusters **do not represent geographic area** from which the bookings happened, but instead represent dense clusters of bookings.\n"
   ]
  },
  {
   "cell_type": "code",
   "execution_count": null,
   "metadata": {
    "collapsed": true
   },
   "outputs": [],
   "source": []
  }
 ],
 "metadata": {
  "anaconda-cloud": {},
  "kernelspec": {
   "display_name": "Python [conda root]",
   "language": "python",
   "name": "conda-root-py"
  },
  "language_info": {
   "codemirror_mode": {
    "name": "ipython",
    "version": 3
   },
   "file_extension": ".py",
   "mimetype": "text/x-python",
   "name": "python",
   "nbconvert_exporter": "python",
   "pygments_lexer": "ipython3",
   "version": "3.5.2"
  }
 },
 "nbformat": 4,
 "nbformat_minor": 1
}
